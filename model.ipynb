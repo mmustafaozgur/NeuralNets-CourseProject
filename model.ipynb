{
 "cells": [
  {
   "cell_type": "code",
   "execution_count": null,
   "metadata": {},
   "outputs": [],
   "source": [
    "# Libraries\n",
    "import torch\n",
    "import torch.nn as nn\n",
    "import torchvision import transforms"
   ]
  },
  {
   "cell_type": "code",
   "execution_count": null,
   "metadata": {},
   "outputs": [],
   "source": [
    "# Görüntü ön işleme\n",
    "transform = transforms.Compose([\n",
    "    transforms.Resize((256, 256)), # Görüntüler 256x256 boyutlarına getirilir.\n",
    "    transforms.ToTensor() # Piksel değerleri [0,1] arasına normalize edilir.\n",
    "    ])"
   ]
  }
 ],
 "metadata": {
  "kernelspec": {
   "display_name": "Python 3",
   "language": "python",
   "name": "python3"
  },
  "language_info": {
   "name": "python",
   "version": "3.12.6"
  }
 },
 "nbformat": 4,
 "nbformat_minor": 2
}
